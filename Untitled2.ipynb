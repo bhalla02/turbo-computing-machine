{
 "cells": [
  {
   "cell_type": "markdown",
   "id": "fa6be800-7388-4bf4-b4d7-ea1bcc78eba0",
   "metadata": {},
   "source": [
    "Q1\n",
    "Data encoding is the process of converting categorical data into numerical representations suitable for machine learning algorithms. It's useful in data science because many machine learning algorithms require numerical input, and encoding allows us to work with categorical data effectively."
   ]
  },
  {
   "cell_type": "markdown",
   "id": "20db3877-a9f5-4641-892e-712b3d626ff9",
   "metadata": {},
   "source": [
    "Q2\n",
    "Nominal encoding assigns a unique integer to each category in a categorical variable. For example, if we have a variable \"color\" with categories \"red,\" \"green,\" and \"blue,\" we can encode them as 0, 1, and 2, respectively.\n",
    "Real-world scenario: In customer segmentation for an e-commerce platform, you might have a categorical variable \"region\" with categories such as \"North,\" \"South,\" \"East,\" and \"West.\" Nominal encoding would assign a unique integer to each region, making it suitable for machine learning algorithms."
   ]
  },
  {
   "cell_type": "markdown",
   "id": "05e9038f-4c91-4e72-8ce4-c4449b435d38",
   "metadata": {},
   "source": [
    "Q3\n",
    "Nominal encoding is preferred over one-hot encoding when the categorical variable has many unique categories, and the cardinality of the variable is not excessively high. For example, if a variable has hundreds of unique categories, one-hot encoding would create too many additional columns, leading to the curse of dimensionality.\n",
    "Practical example: Consider a dataset containing a categorical variable \"product_category\" with 50 unique categories. Nominal encoding would assign a unique integer to each category, resulting in 50 different numerical values, which is manageable for most machine learning algorithms. However, using one-hot encoding in this scenario would create 50 additional binary columns, significantly increasing the dimensionality of the dataset."
   ]
  },
  {
   "cell_type": "markdown",
   "id": "4b7eae5f-bcca-4593-984c-317eae0a710c",
   "metadata": {},
   "source": [
    "Q4\n",
    "If the categorical variable has a limited number of unique values, nominal encoding would be suitable. Nominal encoding assigns a unique integer to each category, which can effectively represent the categorical variable without introducing a large number of additional columns."
   ]
  },
  {
   "cell_type": "markdown",
   "id": "9920212e-c778-4fe3-9fb1-eebd8ede5526",
   "metadata": {},
   "source": [
    "Q5\n",
    "If we have two categorical columns and each column has 5 unique values, then after nominal encoding, each column would be replaced by one numerical column. So, in total, 2 categorical columns would be replaced by 2 numerical columns.\n"
   ]
  },
  {
   "cell_type": "markdown",
   "id": "c425c3a5-5a2b-4647-b8d7-dc3ef6e9c1a7",
   "metadata": {},
   "source": [
    "Q6\n",
    "For the \"species\" variable, which likely has many unique categories, one-hot encoding would be suitable to avoid the potential issues of ordinality and misinterpretation of the model. For \"habitat\" and \"diet\" variables, nominal encoding may be sufficient since they likely have fewer unique categories, and using one-hot encoding would unnecessarily increase dimensionality."
   ]
  }
 ],
 "metadata": {
  "kernelspec": {
   "display_name": "Python 3 (ipykernel)",
   "language": "python",
   "name": "python3"
  },
  "language_info": {
   "codemirror_mode": {
    "name": "ipython",
    "version": 3
   },
   "file_extension": ".py",
   "mimetype": "text/x-python",
   "name": "python",
   "nbconvert_exporter": "python",
   "pygments_lexer": "ipython3",
   "version": "3.10.8"
  }
 },
 "nbformat": 4,
 "nbformat_minor": 5
}
